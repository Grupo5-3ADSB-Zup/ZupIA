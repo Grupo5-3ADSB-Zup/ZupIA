{
 "cells": [
  {
   "cell_type": "code",
   "execution_count": 106,
   "metadata": {
    "dotnet_interactive": {
     "language": "csharp"
    },
    "polyglot_notebook": {
     "kernelName": "csharp"
    }
   },
   "outputs": [],
   "source": [
    "############################################ ABRINDO O ARQUIVO DE MASSA PARA APRENDIZAGEM ###############################################\n",
    "\n",
    "import\tpandas\tas\tpd\n",
    "import requests\n",
    "dadosBrutos\t=\tpd.read_csv('massa2.csv', on_bad_lines='warn')"
   ]
  },
  {
   "cell_type": "code",
   "execution_count": 107,
   "metadata": {
    "dotnet_interactive": {
     "language": "csharp"
    },
    "polyglot_notebook": {
     "kernelName": "csharp"
    }
   },
   "outputs": [],
   "source": [
    "############################################ CRIANDO UM ARRAY COM TODAS AS PALAVRAS UNICAS ###############################################\n",
    "\n",
    "textos\t=\tdadosBrutos['texto']\n",
    "#textos\n",
    "\n",
    "dicionario\t=\t[]\n",
    "\n",
    "for\tlista\tin\ttextos:\n",
    "\t\tdicionario.append(lista)\n",
    "\n",
    "#dicionario"
   ]
  },
  {
   "cell_type": "code",
   "execution_count": 108,
   "metadata": {
    "dotnet_interactive": {
     "language": "csharp"
    },
    "polyglot_notebook": {
     "kernelName": "csharp"
    }
   },
   "outputs": [],
   "source": [
    "############################################ TOKENIZANDO AS FRASES ###############################################\n",
    "\n",
    "\n",
    "from sklearn.feature_extraction.text import CountVectorizer\n",
    "count_vect = CountVectorizer(analyzer='word', ngram_range=(3, 3))\n",
    "X_train_counts = count_vect.fit_transform(dicionario)\n",
    "#count_vect.get_feature_names_out()\n",
    "#X_train_counts.shape\n",
    "\n",
    "from sklearn.feature_extraction.text import TfidfTransformer\n",
    "tfidf_transformer = TfidfTransformer()\n",
    "X_train_tfidf = tfidf_transformer.fit_transform(X_train_counts)\n",
    "#X_train_tfidf.shape"
   ]
  },
  {
   "cell_type": "code",
   "execution_count": 109,
   "metadata": {
    "dotnet_interactive": {
     "language": "csharp"
    },
    "polyglot_notebook": {
     "kernelName": "csharp"
    }
   },
   "outputs": [],
   "source": [
    "############################################ TREINANDO O CLASSIFICADOR MULTINOMIALNB ###############################################\n",
    "\n",
    "from sklearn.naive_bayes import MultinomialNB\n",
    "clf = MultinomialNB().fit(X_train_tfidf, dadosBrutos['classificacao'])"
   ]
  },
  {
   "cell_type": "code",
   "execution_count": 110,
   "id": "293de698",
   "metadata": {},
   "outputs": [
    {
     "name": "stdout",
     "output_type": "stream",
     "text": [
      "   id                                          descricao              nome\n",
      "0   6              Não gostei do que li, recomendo venda  Eduardo Oliveira\n",
      "1   5                   Boa oportunidade de comprar mais  Eduardo Oliveira\n",
      "2   4         Olha o preço da petrobras indo pro chão...  Eduardo Oliveira\n",
      "3   3  Com toda essa reforma... Não vejo boas previsõ...  Eduardo Oliveira\n",
      "4   2  Ótima notícia, trouxe boas informações para me...  Eduardo Oliveira\n",
      "5   1         Notícia, muito boa, recomendação de compra  Eduardo Oliveira\n"
     ]
    }
   ],
   "source": [
    "############################################ CHAMADA DADOS API ###############################################\n",
    "\n",
    "\n",
    "#url = 'http://44.219.155.152:8080/noticia/rss'\n",
    "url = 'http://localhost:8080/IA/noticias/comentarios'\n",
    "\n",
    "response = requests.get(url)\n",
    "\n",
    "if response.status_code == 200:\n",
    "    data = response.json()\n",
    "    comentarios = pd.DataFrame(data)\n",
    "else:\n",
    "    print('Erro ao chamar a API. Código de status:', response.status_code)\n",
    "\n",
    "# Tratar dados vindo da Api Zup\n",
    "textosApi\t=\tcomentarios['descricao']\n",
    "ListaComentariosApi = []\n",
    "\n",
    "for\tlista\tin\ttextosApi:\n",
    "\t\tListaComentariosApi.append(lista)\n",
    "  \n",
    "  \n",
    "idsApi = comentarios.id\n",
    "ListaIdsApi = []\n",
    "\n",
    "for listaIds in idsApi:\n",
    "    ListaIdsApi.append(listaIds)\n",
    "\n",
    "#print(ListaComentariosApi)\n",
    "\n",
    "#print(listaIds)\n",
    "\n",
    "print(comentarios)\n",
    "\n",
    "#ListaIdsApi"
   ]
  },
  {
   "cell_type": "code",
   "execution_count": 111,
   "metadata": {
    "dotnet_interactive": {
     "language": "csharp"
    },
    "polyglot_notebook": {
     "kernelName": "csharp"
    }
   },
   "outputs": [
    {
     "name": "stdout",
     "output_type": "stream",
     "text": [
      "'Não gostei do que li, recomendo venda' => venda\n",
      "'Boa oportunidade de comprar mais' => compra\n",
      "'Olha o preço da petrobras indo pro chão...' => venda\n",
      "'Com toda essa reforma... Não vejo boas previsões para o mercado' => compra\n",
      "'Ótima notícia, trouxe boas informações para meus estudos' => compra\n",
      "'Notícia, muito boa, recomendação de compra' => compra\n"
     ]
    }
   ],
   "source": [
    "############################################ UTILIZANDO A ML PARA RESPONDER O PESO DOS COMENTARIOS ###############################################\n",
    "\n",
    "#docs_new = ['Não perca a oportunidade de compra', 'Vejo potencial de crescimento; vou comprar mais ativos', 'Vejo um futuro brilhante para quem investe agora','Investir em ações não é mais um sonho distante. Estou começando a visualizar um futuro financeiro sólido!']\n",
    "#docs_new = dicionario\n",
    "docs_new = ListaComentariosApi\n",
    "X_new_counts = count_vect.transform(docs_new)\n",
    "X_new_tfidf = tfidf_transformer.transform(X_new_counts)\n",
    "\n",
    "predicted = clf.predict(X_new_tfidf)\n",
    "\n",
    "categoria = ['', 'Recomendação de compra', '', 'Pense em comprar','','Neutro','','Pense em vender','', 'Recomendação de Venda']\n",
    "\n",
    "for doc, category in zip(docs_new, predicted):\n",
    "    print('%r => %s' % (doc, categoria[category]))\n",
    "    \n",
    "    \n",
    "objTratado = {\n",
    "    'Descricao' : doc,\n",
    "    \n",
    "}"
   ]
  },
  {
   "cell_type": "code",
   "execution_count": 112,
   "id": "2159c562",
   "metadata": {},
   "outputs": [
    {
     "data": {
      "text/plain": [
       "'[{\"id\": 6, \"peso\": 2}, {\"id\": 5, \"peso\": 1}, {\"id\": 4, \"peso\": 2}, {\"id\": 3, \"peso\": 1}, {\"id\": 2, \"peso\": 1}, {\"id\": 1, \"peso\": 1}]'"
      ]
     },
     "execution_count": 112,
     "metadata": {},
     "output_type": "execute_result"
    }
   ],
   "source": [
    "# TESTEEEEEE OBJ MONTADO\n",
    "\n",
    "import json\n",
    "\n",
    "# MONTAGEM FOR ENVIO\n",
    "\n",
    "listaIdComentario = ListaIdsApi\n",
    "\n",
    "categoriaApi = [0, 1, 2]\n",
    "\n",
    "#categoriaApi = ['', 'compra', 'venda']\n",
    "\n",
    "lista_envio = []\n",
    "\n",
    "for idComentario, pesoComentario in zip(listaIdComentario, predicted):\n",
    "    PesoComentarioRequest = {\n",
    "        \"id\" : idComentario,\n",
    "        \"peso\" : categoriaApi[pesoComentario]\n",
    "    }\n",
    "    lista_envio.append(PesoComentarioRequest)\n",
    "    \n",
    "\n",
    "#Convertendo lista para JSON\n",
    "request_data = json.dumps(lista_envio)\n",
    "\n",
    "#lista_envio\n",
    "request_data"
   ]
  },
  {
   "cell_type": "code",
   "execution_count": null,
   "id": "11504521",
   "metadata": {},
   "outputs": [],
   "source": [
    "\n",
    "############################################ ENVIO DOS DADOS PARA API ###############################################\n",
    "\n",
    "\n",
    "\n",
    "import json\n",
    "\n",
    "# MONTAGEM FOR ENVIO\n",
    "\n",
    "\n",
    "listaIdComentario = ListaIdsApi\n",
    "\n",
    "categoriaApi = [0, 1, 2]\n",
    "\n",
    "#categoriaApi = ['', 'compra', 'venda']\n",
    "\n",
    "lista_envio = []\n",
    "\n",
    "for idComentario, pesoComentario in zip(listaIdComentario, predicted):\n",
    "    PesoComentarioRequest = {\n",
    "        \"id\" : idComentario,\n",
    "        \"peso\" : categoriaApi[pesoComentario]\n",
    "    }\n",
    "    lista_envio.append(PesoComentarioRequest)\n",
    "\n",
    "#Convertendo lista para JSON\n",
    "request_data = json.dumps(lista_envio)\n",
    "\n",
    "urlEnvio = 'http://localhost:8080/IA/noticias/comentarios/pesos'\n",
    "headers = {'Content-Type': 'application/json'}\n",
    "\n",
    "requestApi = requests.post(urlEnvio, headers=headers, data=request_data) \n",
    "\n",
    "if requestApi.status_code == 200:\n",
    "    print('Requisição enviada!')\n",
    "else:\n",
    "    print('Erro', requestApi.status_code)\n",
    "    \n",
    "    \n",
    "print()"
   ]
  }
 ],
 "metadata": {
  "kernelspec": {
   "display_name": "virt",
   "language": "python",
   "name": "python3"
  },
  "language_info": {
   "codemirror_mode": {
    "name": "ipython",
    "version": 3
   },
   "file_extension": ".py",
   "mimetype": "text/x-python",
   "name": "python",
   "nbconvert_exporter": "python",
   "pygments_lexer": "ipython3",
   "version": "3.11.5"
  },
  "polyglot_notebook": {
   "kernelInfo": {
    "defaultKernelName": "csharp",
    "items": [
     {
      "aliases": [],
      "name": "csharp"
     }
    ]
   }
  }
 },
 "nbformat": 4,
 "nbformat_minor": 5
}
