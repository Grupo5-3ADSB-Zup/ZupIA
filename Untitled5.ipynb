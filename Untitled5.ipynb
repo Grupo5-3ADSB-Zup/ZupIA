{
 "cells": [
  {
   "cell_type": "code",
   "execution_count": 156,
   "metadata": {
    "dotnet_interactive": {
     "language": "csharp"
    },
    "polyglot_notebook": {
     "kernelName": "csharp"
    }
   },
   "outputs": [
    {
     "name": "stdout",
     "output_type": "stream",
     "text": [
      "0    Notícia, muito boa, recomendação de compra\n",
      "Name: descricao, dtype: object\n"
     ]
    },
    {
     "data": {
      "text/html": [
       "<div>\n",
       "<style scoped>\n",
       "    .dataframe tbody tr th:only-of-type {\n",
       "        vertical-align: middle;\n",
       "    }\n",
       "\n",
       "    .dataframe tbody tr th {\n",
       "        vertical-align: top;\n",
       "    }\n",
       "\n",
       "    .dataframe thead th {\n",
       "        text-align: right;\n",
       "    }\n",
       "</style>\n",
       "<table border=\"1\" class=\"dataframe\">\n",
       "  <thead>\n",
       "    <tr style=\"text-align: right;\">\n",
       "      <th></th>\n",
       "      <th>id</th>\n",
       "      <th>descricao</th>\n",
       "      <th>nome</th>\n",
       "    </tr>\n",
       "  </thead>\n",
       "  <tbody>\n",
       "    <tr>\n",
       "      <th>0</th>\n",
       "      <td>1</td>\n",
       "      <td>Notícia, muito boa, recomendação de compra</td>\n",
       "      <td>Eduardo Oliveira</td>\n",
       "    </tr>\n",
       "  </tbody>\n",
       "</table>\n",
       "</div>"
      ],
      "text/plain": [
       "   id                                   descricao              nome\n",
       "0   1  Notícia, muito boa, recomendação de compra  Eduardo Oliveira"
      ]
     },
     "execution_count": 156,
     "metadata": {},
     "output_type": "execute_result"
    }
   ],
   "source": [
    "import\tpandas\tas\tpd\n",
    "import requests\n",
    "dadosBrutos\t=\tpd.read_csv('massa1.csv', on_bad_lines='warn')"
   ]
  },
  {
   "cell_type": "code",
   "execution_count": 157,
   "metadata": {
    "dotnet_interactive": {
     "language": "csharp"
    },
    "polyglot_notebook": {
     "kernelName": "csharp"
    }
   },
   "outputs": [
    {
     "name": "stdout",
     "output_type": "stream",
     "text": [
      "0      Adoro como essa página sempre traz dicas práti...\n",
      "1      As tendências do mercado de ações nunca foram ...\n",
      "2      Nunca pensei que entender sobre ações poderia ...\n",
      "3      Cada postagem é uma aula rápida sobre como com...\n",
      "4      Investir em ações costumava me assustar; mas a...\n",
      "                             ...                        \n",
      "395    Se a situação está ficando tensa; vender pode ...\n",
      "396    Com todas essas incertezas; vender pode ser um...\n",
      "397    A instabilidade está afetando os mercados. Ven...\n",
      "398    Não subestime o impacto das notícias. Vender p...\n",
      "399    Se as notícias estão causando preocupações; ve...\n",
      "Name: texto, Length: 400, dtype: object\n"
     ]
    }
   ],
   "source": [
    "#Colocando os textos em uma variavel\n",
    "textos\t=\tdadosBrutos['texto']\n",
    "textos\n",
    "\n",
    "print(textos)"
   ]
  },
  {
   "cell_type": "code",
   "execution_count": 158,
   "metadata": {
    "dotnet_interactive": {
     "language": "csharp"
    },
    "polyglot_notebook": {
     "kernelName": "csharp"
    }
   },
   "outputs": [
    {
     "data": {
      "text/plain": [
       "['Adoro como essa página sempre traz dicas práticas para iniciantes como eu!',\n",
       " 'As tendências do mercado de ações nunca foram tão empolgantes! Obrigado por manter a gente informado!',\n",
       " 'Nunca pensei que entender sobre ações poderia ser tão fácil. Essas dicas realmente ajudam!',\n",
       " 'Cada postagem é uma aula rápida sobre como começar no mundo dos investimentos. Muito obrigado!',\n",
       " 'Investir em ações costumava me assustar; mas agora me sinto mais confiante com essas informações!',\n",
       " 'Essas tendências são mesmo interessantes. Já estou ansioso pelo próximo artigo!',\n",
       " 'Simplicidade é a chave; e essa página entende isso. Continue compartilhando esses insights!',\n",
       " 'Finalmente encontrei um lugar onde posso aprender sobre ações sem me sentir perdido. Incrível!',\n",
       " 'Cada dica é como um passo na direção certa para um futuro financeiro melhor.',\n",
       " 'Investir é mais fácil quando temos guias assim. Obrigado por simplificar tudo!',\n",
       " 'Sigo várias páginas de investimento; mas essa realmente se destaca pela qualidade das informações.',\n",
       " 'Essa publicação é minha dose semanal de inspiração para começar a investir.',\n",
       " 'Nunca entendi muito sobre ações; mas agora estou começando a ver oportunidades em todo lugar!',\n",
       " 'Investir não precisa ser um bicho de sete cabeças; e essa página prova isso a cada postagem.',\n",
       " 'Comentários simples e dicas práticas são tudo o que um iniciante como eu precisa. Obrigado!',\n",
       " 'Cada vez que leio um novo artigo; sinto que estou evoluindo no meu entendimento sobre investimentos.',\n",
       " 'Essas tendências são como pepitas de ouro para quem está buscando informações valiosas.',\n",
       " 'Não sei como comecei a investir sem seguir essa página. Ela faz tudo fazer sentido!',\n",
       " 'O mercado de ações pode ser intimidante; mas essas explicações tornam tudo mais claro.',\n",
       " 'Aprendendo sobre ações enquanto me divirto? Sim; é possível; graças a essa página!',\n",
       " 'Investir é uma jornada; e estou feliz por ter esses guias para me acompanhar.',\n",
       " 'Cada dica é como uma luz no fim do túnel do desconhecido. Mal posso esperar para aprender mais!',\n",
       " 'Saber mais sobre tendências de mercado me dá uma vantagem real. Obrigado por compartilhar!',\n",
       " 'Essa página prova que investir pode ser acessível e emocionante ao mesmo tempo.',\n",
       " 'Meu entendimento sobre ações cresceu tanto desde que comecei a seguir essa rede social. Grato!',\n",
       " 'Investir é como construir um quebra-cabeça; e cada dica é uma peça valiosa!',\n",
       " 'Não sou mais um novato total em ações; e devo isso a vocês. Continuem o excelente trabalho!',\n",
       " 'Sempre ansioso por cada nova postagem. Essa página me deu a confiança para começar minha jornada de investimento.',\n",
       " 'Investir em ações agora faz parte da minha rotina; e devo muito desse sucesso a esses insights.',\n",
       " 'Nunca pensei que entender o mercado de ações poderia ser tão empolgante. Mal posso esperar para ver o que vem a seguir!',\n",
       " 'Estou lentamente me tornando um investidor mais confiante; e é graças a informações como essas!',\n",
       " 'Aprendendo a linguagem do mercado de ações com explicações simples e eficazes. Muito obrigado!',\n",
       " 'Essa página é uma verdadeira fonte de conhecimento e inspiração para quem está começando a investir.',\n",
       " 'Quem diria que aprender sobre ações seria tão envolvente? Adoro cada pedacinho de informação aqui!',\n",
       " 'Se todos os tutoriais de investimento fossem tão fáceis de entender quanto esses; todos seriam investidores!',\n",
       " 'Investir é um passo importante para um futuro financeiro estável; e essa página torna esse passo menos assustador.',\n",
       " 'A simplicidade das informações compartilhadas aqui é o que me mantém voltando para mais.',\n",
       " 'Nunca foi tão empolgante acompanhar o mercado de ações. Obrigado por tornar isso possível!',\n",
       " 'Cada nova dica é como um trampolim para o meu conhecimento em investimentos. Estou aprendendo muito!',\n",
       " 'Essa página é minha dose semanal de inspiração financeira. Obrigado por tornar investir emocionante!',\n",
       " 'Investir em ações costumava ser um mistério para mim; mas agora estou começando a desvendar esse mundo.',\n",
       " 'Quanto mais eu aprendo; mais percebo o potencial incrível que o mercado de ações oferece. Obrigado!',\n",
       " 'Seguir essa página foi a melhor decisão que tomei como aspirante a investidor. Aprendo algo novo a cada dia!',\n",
       " 'Investir é uma habilidade valiosa; e essa página está me ajudando a desenvolvê-la de maneira prática.',\n",
       " 'Nunca pensei que entender o mercado de ações poderia ser tão simples e empolgante. Continuem o ótimo trabalho!',\n",
       " 'Cada postagem é um lembrete de que investir é um processo contínuo de aprendizado e crescimento.',\n",
       " 'A linguagem acessível e os insights úteis tornam essa página um recurso indispensável para iniciantes.',\n",
       " 'Essa página é uma mina de ouro para quem está buscando informações sobre investimentos de forma compreensível.',\n",
       " 'Graças a essa página; estou mais confiante para explorar o mundo das ações. Muito obrigado por isso!',\n",
       " 'Investir em ações não é mais um mistério assustador; tudo graças às dicas e orientações fornecidas aqui!',\n",
       " 'Essa rede social tornou o aprendizado sobre ações tão simples e interessante. Estou adorando!',\n",
       " 'Sinto que estou aprendendo com amigos que realmente entendem do assunto. Obrigado por compartilhar tanto conhecimento!',\n",
       " 'A cada dia; minha compreensão sobre o mercado de ações cresce; e é graças a essa página!',\n",
       " 'Investir em ações era uma fronteira desconhecida para mim; mas agora estou explorando-a com confiança.',\n",
       " 'Cada dica é uma pequena vitória na minha jornada para me tornar um investidor mais informado.',\n",
       " 'O mercado de ações pode ser complexo; mas essas explicações descomplicam tudo. Vocês são incríveis!',\n",
       " 'Investir em ações não é mais um sonho distante; graças a vocês. Obrigado por tornarem isso alcançável!',\n",
       " 'Compartilhar tendências e dicas do mercado de ações de maneira acessível é uma dádiva para nós iniciantes!',\n",
       " 'Estou construindo meu conhecimento financeiro aos poucos; e cada postagem é um bloco nessa construção.',\n",
       " 'Investir não é mais um mistério intransponível. Estou começando a entender e tudo é graças a vocês!',\n",
       " 'Saber que estou investindo com base em informações confiáveis faz toda a diferença. Continuem com o bom trabalho!',\n",
       " 'Essa página é meu ponto de partida para explorar o mundo das ações. Obrigado por tornar tudo mais simples!',\n",
       " 'Aprendizado prático e direto ao ponto é o que eu preciso; e é exatamente isso que encontro aqui.',\n",
       " 'Investir em ações agora parece uma possibilidade real; e devo muito disso a essas orientações.',\n",
       " 'Sempre que leio um novo artigo; sinto que estou tomando decisões financeiras mais informadas.',\n",
       " 'Investir em ações é um passo importante; e essa página me ajuda a dar esse passo com mais confiança.',\n",
       " 'Cada dica é como uma peça do quebra-cabeça do mercado de ações que estou montando. Muito grato!',\n",
       " 'Essa página é como um guia confiável para quem está entrando no mundo dos investimentos em ações.',\n",
       " 'Nunca achei que entender tendências de mercado poderia ser tão interessante. Obrigado por compartilhar!',\n",
       " 'Investir é um aprendizado constante; e essa página é uma ótima fonte de informações para essa jornada.',\n",
       " 'A cada dia; me sinto mais à vontade com o mercado de ações graças aos insights valiosos que encontro aqui.',\n",
       " 'Essa página é uma verdadeira joia para iniciantes como eu; que estão explorando o mundo dos investimentos.',\n",
       " 'Investir não é mais uma incógnita assustadora. Estou começando a enxergar o quadro geral graças a vocês!',\n",
       " 'Investir é como construir um edifício; e cada dica é um tijolo importante nessa construção.',\n",
       " 'Cada novo conhecimento que adquiro aqui é um passo à frente na minha jornada de investimento.',\n",
       " 'A clareza das explicações é o que mais me atrai nessa página. Obrigado por tornar tudo compreensível!',\n",
       " 'Estou investindo meu tempo e aprendendo muito com essa página. Investir dinheiro agora parece menos assustador!',\n",
       " 'Investir em ações é mais acessível do que nunca; graças a vocês. Muito obrigado por compartilhar conhecimento!',\n",
       " 'Essa página me dá a confiança necessária para tomar decisões informadas sobre investimentos.',\n",
       " 'Cada postagem é um passo na direção de um futuro financeiro mais seguro. Obrigado por serem um guia confiável!',\n",
       " 'A cada nova informação; sinto que estou subindo um degrau na escada dos investimentos. Obrigado!',\n",
       " 'Investir é uma jornada; e estou feliz por ter esses insights para me guiar ao longo do caminho.',\n",
       " 'Aprendendo sobre ações de maneira envolvente e prática. Obrigado por tornar o mundo dos investimentos mais acessível!',\n",
       " 'Essa página é como um farol de conhecimento em um mar de informações sobre investimentos.',\n",
       " 'Obrigado por tornar o mercado de ações mais claro para iniciantes como eu. Estou realmente apreciando!',\n",
       " 'Estou colecionando uma riqueza de conhecimento sobre investimentos; e é graças a vocês.',\n",
       " 'Investir em ações não é mais um mistério impenetrável. Obrigado por tornarem tudo tão compreensível!',\n",
       " 'Cada novo post é uma oportunidade de aprender algo novo sobre o mundo das ações. Continuem assim!',\n",
       " 'Essa página me ajuda a navegar pelo mundo das ações com confiança. Obrigado por isso!',\n",
       " 'Investir em ações é uma aventura emocionante quando temos guias confiáveis para nos orientar. Obrigado por serem esses guias!',\n",
       " 'Cada dica é como uma pepita de sabedoria para quem está começando no mercado de ações. Muito grato!',\n",
       " 'Nunca achei que entender o mercado de ações poderia ser tão estimulante. Obrigado por compartilhar esse entusiasmo!',\n",
       " 'Aprendendo e crescendo a cada postagem. Investir em ações agora faz parte do meu processo de autodesenvolvimento!',\n",
       " 'Investir em ações é um passo importante para o meu futuro; e essa página torna esse passo menos assustador.',\n",
       " 'A linguagem acessível e as explicações detalhadas são uma combinação perfeita para iniciantes como eu.',\n",
       " 'Investir é um aprendizado constante; e é ótimo ter uma fonte confiável de informações como essa.',\n",
       " 'Cada postagem é um trampolim para um entendimento mais profundo sobre o mercado de ações. Obrigado!',\n",
       " 'Investir em ações agora parece uma jornada emocionante; e tudo isso graças a vocês. Continuem inspirando!',\n",
       " 'Cada novo conhecimento adquirido aqui é uma adição valiosa à minha caixa de ferramentas de investimento.',\n",
       " 'Essa página tornou a linguagem do mercado de ações acessível para todos. Obrigado por simplificar!',\n",
       " 'A cada novo artigo; sinto que estou ganhando mais confiança no mundo dos investimentos em ações.',\n",
       " 'Investir não é mais um território desconhecido para mim; e devo isso a vocês. Obrigado por compartilhar sabedoria!',\n",
       " 'Essa página torna o mercado de ações mais compreensível; e isso é um alívio para iniciantes como eu.',\n",
       " 'Investir em ações é uma jornada emocionante; e essa página é meu guia confiável nessa jornada.',\n",
       " 'As tendências do mercado de ações estão se tornando mais claras para mim; e isso é graças a essa página incrível!',\n",
       " 'Investir é como desvendar um quebra-cabeça; e cada dica é uma peça essencial nesse processo.',\n",
       " 'Nunca imaginei que aprender sobre ações poderia ser tão empolgante. Obrigado por fazer isso acontecer!',\n",
       " 'A cada postagem; me sinto mais informado e preparado para tomar decisões inteligentes de investimento.',\n",
       " 'Investir em ações é mais alcançável do que nunca; graças a vocês. Obrigado por compartilharem seu conhecimento!',\n",
       " 'Cada nova postagem é como um novo capítulo na minha jornada de aprendizado sobre investimentos em ações.',\n",
       " 'Nunca é tarde demais para aprender sobre investimentos; e essa página torna a aprendizagem muito mais divertida!',\n",
       " 'Cada dica é como uma peça do quebra-cabeça do mercado de ações. Obrigado por ajudar a montar esse quebra-cabeça!',\n",
       " 'Estou construindo minha base de conhecimento em investimentos; e cada postagem é um bloco nessa construção.',\n",
       " 'Investir em ações não é mais uma meta inatingível. Estou aprendendo e crescendo graças a essa página.',\n",
       " 'Cada postagem é uma dose de motivação para explorar ainda mais o mundo dos investimentos em ações.',\n",
       " 'Investir em ações agora é um objetivo tangível; e essa página me ajuda a chegar mais perto desse objetivo.',\n",
       " 'Aprendizado prático e direto ao ponto é o que essa página oferece de melhor. Obrigado por tornar tudo claro!',\n",
       " 'Investir é como uma viagem de autodescoberta; e essa página está me guiando nessa jornada. Muito obrigado!',\n",
       " 'Cada dica é como uma pepita de sabedoria que estou colecionando para guiar minhas decisões de investimento.',\n",
       " 'Estou construindo meu conhecimento sobre ações um dia de cada vez; e é emocionante ver meu progresso!',\n",
       " 'Investir em ações agora parece menos assustador; graças às explicações claras e concisas fornecidas aqui.',\n",
       " 'Cada nova postagem é uma oportunidade de aprender algo novo sobre o mundo das ações e investimentos.',\n",
       " 'Investir em ações não é mais um mistério indecifrável; e devo isso a vocês. Continuem com o ótimo trabalho!',\n",
       " 'Estou ficando cada vez mais confiante nas minhas escolhas de investimento; e essa página é minha grande aliada.',\n",
       " 'Investir é como montar um quebra-cabeça financeiro; e cada dica é uma peça crucial nesse quebra-cabeça.',\n",
       " 'A cada novo artigo; sinto que estou dando passos significativos no meu entendimento sobre investimentos.',\n",
       " 'Investir em ações não é mais um sonho distante. Estou começando a visualizar um futuro financeiro sólido!',\n",
       " 'Essa página é uma fonte inestimável de conhecimento para quem está começando a explorar o mundo dos investimentos.',\n",
       " 'Investir é uma jornada emocionante; e essa página é meu mapa confiável para essa jornada.',\n",
       " 'Cada postagem é um convite para mergulhar mais fundo no mundo das ações. Obrigado por essa oportunidade!',\n",
       " 'A simplicidade das explicações torna o mercado de ações mais acessível para todos. Muito grato por isso!',\n",
       " 'A cada novo insight; sinto que estou fortalecendo minhas bases no mundo dos investimentos em ações.',\n",
       " 'Investir em ações agora parece uma possibilidade real; e devo isso a vocês por compartilharem seu conhecimento.',\n",
       " 'Essa página é como um farol de sabedoria que me guia no mar complexo do mercado de ações.',\n",
       " 'Investir não é mais um mistério impenetrável. Estou começando a ver o caminho com mais clareza.',\n",
       " 'Cada dica é uma lição valiosa no meu curso intensivo de investimento. Obrigado por essa educação prática!',\n",
       " 'Investir em ações não é mais um desafio assustador. Estou progredindo graças a vocês!',\n",
       " 'Cada nova postagem é uma oportunidade de aprender algo novo sobre investimentos. Estou empolgado para saber mais!',\n",
       " \"Investir em ações é como aprender um novo idioma; e essa página está me ajudando a falar fluente 'financês'!\",\n",
       " 'A cada novo artigo; sinto que estou ganhando mais confiança no meu conhecimento sobre investimentos em ações.',\n",
       " 'Investir é como um quebra-cabeça que estou montando; e cada dica é uma peça valiosa nesse quebra-cabeça.',\n",
       " 'Nunca imaginei que aprender sobre ações poderia ser tão envolvente. Obrigado por tornar essa jornada emocionante!',\n",
       " 'Aprendendo algo novo a cada postagem. O mundo das ações está se tornando cada vez mais familiar!',\n",
       " 'Investir é uma jornada contínua; e essa página é minha bússola confiável nessa jornada.',\n",
       " 'Cada postagem é um passo na direção de um futuro financeiro mais seguro e estável. Muito grato por isso!',\n",
       " 'A simplicidade das explicações é o que mais me atrai nessa página. Obrigado por tornar tudo compreensível!',\n",
       " 'Investir em ações é como explorar um novo território; e essa página é meu guia confiável nessa exploração.',\n",
       " 'A cada novo conhecimento adquirido; sinto que estou construindo um alicerce sólido para meu futuro financeiro.',\n",
       " 'Investir em ações não é mais uma ideia distante. Estou aplicando o que aprendi e vendo resultados!',\n",
       " 'Cada postagem é uma dose de motivação para continuar aprendendo sobre investimentos em ações.',\n",
       " 'Investir em ações é como uma viagem emocionante; e essa página é meu companheiro de viagem.',\n",
       " 'A cada dica; sinto que estou ganhando mais confiança para tomar decisões inteligentes de investimento.',\n",
       " 'Investir em ações não é mais uma fronteira intransponível. Estou desbravando esse mundo com confiança!',\n",
       " 'Cada nova postagem é como uma nova pista para decifrar o enigma do mercado de ações. Muito obrigado!',\n",
       " 'Investir é como montar um quebra-cabeça; e cada dica é uma peça crucial desse quebra-cabeça.',\n",
       " 'A cada novo artigo; sinto que estou ampliando meu entendimento sobre o mercado de ações e investimentos.',\n",
       " 'Investir em ações é mais acessível do que nunca; graças às informações práticas compartilhadas aqui.',\n",
       " 'Cada postagem é um trampolim para meus conhecimentos em investimentos. Obrigado por essa ajuda!',\n",
       " 'Investir em ações agora parece uma jornada emocionante; e estou animado para continuar aprendendo.',\n",
       " 'Aprendizado prático é o que eu procuro; e essa página entrega isso com cada postagem. Obrigado!',\n",
       " 'Investir é um processo de construção; e cada dica é um tijolo fundamental nesse processo.',\n",
       " 'Cada postagem é uma oportunidade de aprofundar meu entendimento sobre o mundo das ações e investimentos.',\n",
       " 'Investir em ações não é mais um mistério indecifrável. Obrigado por tornar tudo mais claro!',\n",
       " 'A cada nova postagem; sinto que estou fortalecendo meu conhecimento em investimentos. Muito grato por isso!',\n",
       " 'Investir é como uma jornada emocionante; e essa página é meu mapa para essa jornada.',\n",
       " 'Cada dica é como uma luz orientadora que me ajuda a navegar pelo complexo mundo dos investimentos.',\n",
       " 'Investir em ações não é mais um desafio impossível. Estou progredindo graças a vocês!',\n",
       " 'Aprendizado é uma jornada contínua; e essa página é minha companheira nessa jornada de investimento.',\n",
       " 'Cada postagem é um passo na direção de um futuro financeiro mais estável. Muito obrigado por isso!',\n",
       " 'Investir em ações não é mais um mistério indecifrável. Obrigado por simplificar todo o processo!',\n",
       " 'Cada nova postagem é como uma peça do quebra-cabeça do mercado de ações. Obrigado por ajudar a montar esse quebra-cabeça!',\n",
       " 'Investir é como construir um edifício; e cada dica é um bloco essencial nessa construção.',\n",
       " 'A cada novo artigo; sinto que estou construindo um alicerce mais forte para o meu futuro financeiro.',\n",
       " 'Investir em ações agora é uma possibilidade real; e devo isso a vocês por compartilharem seu conhecimento!',\n",
       " 'Cada postagem é uma dose de inspiração para continuar aprendendo sobre investimentos em ações.',\n",
       " 'Investir em ações é como uma jornada empolgante; e essa página é meu guia para essa jornada.',\n",
       " 'A cada dica; sinto que estou fortalecendo minha confiança nas minhas decisões de investimento.',\n",
       " 'Investir em ações não é mais um sonho distante. Estou aprendendo e aplicando o que aprendo!',\n",
       " 'Cada nova postagem é como um passo em direção a um entendimento mais profundo do mundo dos investimentos.',\n",
       " 'Investir é como montar um quebra-cabeça financeiro; e cada dica é uma peça valiosa nesse quebra-cabeça.',\n",
       " 'A cada novo artigo; sinto que estou expandindo minha compreensão do mercado de ações e investimentos.',\n",
       " 'Investir em ações não é mais um mistério impenetrável. Obrigado por tornar tudo mais acessível!',\n",
       " 'A cada nova postagem; sinto que estou construindo uma base sólida de conhecimento em investimentos.',\n",
       " 'Investir é como explorar um novo mundo; e essa página é meu guia confiável nessa exploração.',\n",
       " 'Cada dica é como um farol que me orienta no vasto oceano do mercado de ações.',\n",
       " 'Investir em ações não é mais um desafio intimidante. Estou progredindo graças a vocês!',\n",
       " 'Aprendizado é uma jornada constante; e essa página é minha parceira nessa jornada de investimento.',\n",
       " 'Cada postagem é um passo na direção de um futuro financeiro mais seguro e próspero. Obrigado por isso!',\n",
       " 'Investir em ações não é mais um mistério inatingível. Obrigado por simplificarem o processo!',\n",
       " 'Cada nova postagem é uma peça crucial do quebra-cabeça do mercado de ações. Obrigado por ajudarem a montar esse quebra-cabeça!',\n",
       " 'Investir é como construir um alicerce para o futuro; e cada dica é um bloco essencial nessa construção.',\n",
       " 'A cada novo artigo; sinto que estou fortalecendo minha compreensão do mercado financeiro e de investimentos.',\n",
       " 'Investir em ações não é mais um sonho distante. Estou aprendendo e aplicando o que aprendo com vocês!',\n",
       " 'Cada postagem é uma dose de motivação para continuar aprendendo e crescendo como investidor.',\n",
       " 'Investir em ações é como uma aventura empolgante; e essa página é meu guia para essa aventura.',\n",
       " 'A cada dica; sinto que estou construindo minha confiança nas minhas decisões de investimento.',\n",
       " 'Investir em ações não é mais um desafio insuperável. Estou progredindo graças às informações compartilhadas aqui!',\n",
       " 'Cada nova postagem é como um degrau na escada do meu conhecimento sobre o mercado de ações.',\n",
       " 'Investir é como montar um quebra-cabeça complexo; e cada dica é uma peça importante desse quebra-cabeça.',\n",
       " 'Aprendizado é um processo contínuo; e essa página é minha parceira nessa jornada de investimento. Obrigado por toda a orientação!',\n",
       " 'Parece que algo grande está acontecendo nos bastidores. Talvez seja uma boa hora para considerar vender.',\n",
       " 'As notícias recentes parecem estar causando alguma agitação. Ficar atento e talvez vender.',\n",
       " 'Com toda essa agitação; talvez seja hora de reconsiderar a sua posição.',\n",
       " 'As coisas parecem incertas no momento. Algumas vendas poderiam ser uma jogada sábia.',\n",
       " 'Preocupado com as últimas notícias? Vender poderia ser uma maneira de se proteger.',\n",
       " 'Às vezes; é melhor se afastar quando a tempestade se forma. Pense em vender.',\n",
       " 'Incertezas no ar. Vender pode ser a escolha prudente agora.',\n",
       " 'A tranquilidade do mercado está abalada. Vender poderia ser uma estratégia defensiva.',\n",
       " 'Se as notícias são realmente explosivas; talvez seja hora de considerar a venda.',\n",
       " 'Quando todos estão preocupados; pode ser o momento certo para vender.',\n",
       " 'As manchetes estão mexendo com os investidores. Vender talvez seja uma opção.',\n",
       " 'Se as águas estão turbulentas; pode ser sensato vender o barco.',\n",
       " 'O medo está se espalhando. Vender pode ser a escolha certa para minimizar as perdas.',\n",
       " 'Quem sabe o que vem a seguir? Vender pode ser uma jogada defensiva.',\n",
       " 'Se as notícias são realmente chocantes; talvez seja hora de vender e evitar riscos.',\n",
       " 'Com as preocupações atuais; talvez seja hora de vender para proteger seus ganhos.',\n",
       " 'Quando o mercado treme; vender pode ser uma escolha sensata.',\n",
       " 'Ficar à margem pode ser a melhor opção no momento. Considere vender.',\n",
       " 'Se as notícias estão causando agitação; vender pode ser uma estratégia prudente.',\n",
       " 'A incerteza está alta. Vender pode ser uma forma de cautela.',\n",
       " 'Não vale a pena correr riscos com todas essas preocupações. Pense em vender.',\n",
       " 'As notícias têm poder de influenciar. Vender pode ser uma resposta sensata.',\n",
       " 'Com a preocupação aumentando; talvez seja hora de vender enquanto ainda há tempo.',\n",
       " 'O medo está no ar. Vender pode ajudar a aliviar a pressão.',\n",
       " 'Não subestime o impacto das notícias. Vender pode ser uma escolha inteligente.',\n",
       " 'Quando todos estão preocupados; vender pode ser a jogada estratégica.',\n",
       " 'Se o desconhecido está causando ansiedade; vender pode ser a saída.',\n",
       " 'Não deixe que as emoções controlem. Considere vender para garantir seus ganhos.',\n",
       " 'A situação está tensa. Vender pode ser a melhor decisão.',\n",
       " 'As notícias podem abalar os mercados. Pense em vender para minimizar riscos.',\n",
       " 'A incerteza não é amiga dos investidores. Vender talvez seja a resposta.',\n",
       " 'Proteja-se da turbulência vendendo suas posições.',\n",
       " 'Se as notícias estão causando preocupação; vender pode ser uma escolha prudente.',\n",
       " 'Não há vergonha em vender quando a incerteza está alta.',\n",
       " 'A cautela está no ar. Vender pode ser a melhor decisão.',\n",
       " 'Mantenha a calma e considere vender para evitar surpresas desagradáveis.',\n",
       " 'As notícias podem mudar tudo. Vender agora pode ser uma precaução inteligente.',\n",
       " 'Não deixe que a inquietação do mercado o pegue de surpresa. Vender é uma opção.',\n",
       " 'Com todos esses problemas; vender pode ser a jogada segura.',\n",
       " 'Às vezes; é melhor sair antes da tempestade. Pense em vender.',\n",
       " 'A incerteza pode prejudicar seus investimentos. Vender pode proteger seus ativos.',\n",
       " 'Se as notícias são alarmantes; talvez seja hora de vender e esperar.',\n",
       " 'Ficar de olho nas notícias pode ser crucial agora. Vender pode ser uma decisão sábia.',\n",
       " 'As preocupações estão afetando o mercado. Vender pode ser uma estratégia inteligente.',\n",
       " 'Não se apegue às posições quando há turbulência. Vender pode ser a escolha certa.',\n",
       " 'As notícias podem criar caos. Pense em vender para evitar perdas.',\n",
       " 'A incerteza está alta. Talvez seja hora de vender para reduzir riscos.',\n",
       " 'Se as notícias estão causando ansiedade; vender pode ser a jogada correta.',\n",
       " 'Fique à frente da curva e considere vender se a situação continuar incerta.',\n",
       " 'A estabilidade do mercado está ameaçada. Vender pode ser uma resposta.',\n",
       " 'Não hesite em vender se as notícias forem perturbadoras.',\n",
       " 'Com todas essas incertezas; vender pode ser uma forma de se proteger.',\n",
       " 'As notícias podem ditar os próximos passos. Pense em vender para evitar perdas.',\n",
       " 'A cautela é essencial em tempos incertos. Vender pode ser a escolha sábia.',\n",
       " 'Se as notícias estão causando preocupações; vender pode ser a decisão certa.',\n",
       " 'Não ignore os sinais de problemas. Vender pode ser a atitude apropriada.',\n",
       " 'Com o mercado em tumulto; vender pode ser uma opção sensata.',\n",
       " 'Proteja seus investimentos da agitação vendendo o que puder.',\n",
       " 'Se as notícias estão abalando sua confiança; considere vender para minimizar perdas.',\n",
       " 'Não se prenda a investimentos incertos. Vender pode ser a escolha inteligente.',\n",
       " 'O desconhecido pode ser perigoso para os investidores. Vender pode ser a resposta.',\n",
       " 'Pense em vender se as notícias estão prejudicando sua confiança no mercado.',\n",
       " 'A incerteza não deve ser subestimada. Vender pode ser uma estratégia prudente.',\n",
       " 'Não arrisque o que você conquistou. Vender pode ser a jogada certa.',\n",
       " 'Com todas essas preocupações; vender pode ser a decisão mais sensata.',\n",
       " 'As notícias têm um impacto real nos investimentos. Vender pode ser uma opção.',\n",
       " 'A turbulência do mercado pode aumentar. Pense em vender para se proteger.',\n",
       " 'Se as notícias estão prejudicando sua confiança; vender pode ser a resposta.',\n",
       " 'Mantenha-se informado e considere vender se a situação continuar volátil.',\n",
       " 'Não subestime o poder das notícias. Vender pode ser a escolha certa.',\n",
       " 'Se a incerteza está alta; vender pode ser a atitude sensata a tomar.',\n",
       " 'Proteja seus ativos das flutuações vendendo o que puder.',\n",
       " 'Se as notícias estão causando preocupações; vender pode ser a estratégia certa.',\n",
       " 'Não deixe que o medo guie suas decisões. Pense em vender para minimizar riscos.',\n",
       " 'Ficar alerta é crucial agora. Vender pode ser a resposta para a incerteza.',\n",
       " 'Se as notícias são perturbadoras; talvez seja hora de vender enquanto ainda é possível.',\n",
       " 'A cautela é aconselhável em tempos tumultuados. Vender pode ser a decisão correta.',\n",
       " 'Não tome riscos desnecessários. Considere vender para preservar seus ganhos.',\n",
       " 'As notícias podem influenciar significativamente o mercado. Vender pode ser a escolha sábia.',\n",
       " 'Quando as águas estão agitadas; vender pode ser a jogada segura.',\n",
       " 'Se as notícias estão causando ansiedade; vender pode ser a melhor saída.',\n",
       " 'Não espere até que seja tarde demais. Pense em vender para evitar perdas.',\n",
       " 'A incerteza está pesando sobre o mercado. Vender pode ser uma estratégia defensiva.',\n",
       " 'Não deixe que as emoções nublem seu julgamento. Vender pode ser a decisão correta.',\n",
       " 'Se as notícias estão gerando preocupações; vender pode ser a escolha sensata.',\n",
       " 'O mercado está instável. Vender pode ser uma medida protetora.',\n",
       " 'Não ignore os sinais de alerta. Pense em vender para minimizar os riscos.',\n",
       " 'Se a situação está ficando tensa; vender pode ser a resposta.',\n",
       " 'Com todas essas incertezas; talvez seja hora de considerar a venda.',\n",
       " 'A incerteza é o inimigo dos investidores. Vender pode ser a estratégia adequada.',\n",
       " 'Se as notícias estão afetando seus nervos; vender pode ser a escolha inteligente.',\n",
       " 'Ficar à margem pode ser uma jogada sensata agora. Pense em vender.',\n",
       " 'Não se apegue a investimentos arriscados. Vender pode ser a decisão certa.',\n",
       " 'O mercado está repleto de incertezas. Vender pode ser uma resposta defensiva.',\n",
       " 'Se as notícias estão fazendo você duvidar; vender pode ser a opção certa.',\n",
       " 'Não se deixe levar pelo pânico. Pense em vender para garantir sua segurança.',\n",
       " 'As preocupações estão moldando a atmosfera do mercado. Vender pode ser a escolha certa.',\n",
       " 'A incerteza pode ser prejudicial para seus investimentos. Vender pode ser uma estratégia sensata.',\n",
       " 'Se as notícias estão causando estresse; vender pode ser a resposta.',\n",
       " 'Mantenha seus investimentos protegidos em meio à turbulência. Considere vender.',\n",
       " 'O mercado está em agitação. Pense em vender para minimizar perdas.',\n",
       " 'Se as notícias estão comprometendo sua confiança; vender pode ser a resposta.',\n",
       " 'Não ignore os sinais de alerta. Vender pode ser a escolha sábia.',\n",
       " 'Com a incerteza no ar; vender pode ser a decisão mais sensata.',\n",
       " 'Proteja seus investimentos do impacto das notícias vendendo.',\n",
       " 'Se as notícias estão causando preocupações; vender pode ser a estratégia inteligente.',\n",
       " 'A tempestade está se formando. Pense em vender para se proteger.',\n",
       " 'Se a incerteza está alta; considerar vender é uma atitude prudente.',\n",
       " 'Mantenha-se informado e considere vender se a turbulência continuar.',\n",
       " 'Não deixe que a incerteza minere seus ganhos. Vender pode ser a decisão certa.',\n",
       " 'Se as notícias estão gerando inquietação; vender pode ser a resposta.',\n",
       " 'Ficar à frente das mudanças pode envolver vender.',\n",
       " 'O mercado está oscilando. Pense em vender para reduzir riscos.',\n",
       " 'Se as notícias estão abalando sua confiança; vender pode ser a resposta.',\n",
       " 'A incerteza está influenciando o mercado. Vender pode ser uma opção viável.',\n",
       " 'Não permita que as preocupações o dominem. Pense em vender para minimizar perdas.',\n",
       " 'Se a situação está ficando caótica; vender pode ser a escolha certa.',\n",
       " 'Com todas essas incertezas; talvez seja hora de considerar vender.',\n",
       " 'A incerteza pode ter um impacto duradouro. Vender é uma estratégia a considerar.',\n",
       " 'Se as notícias estão prejudicando sua confiança; vender pode ser uma decisão sábia.',\n",
       " 'Não hesite em agir. Pense em vender para evitar riscos.',\n",
       " 'A volatilidade está alta. Vender pode ser a escolha sensata.',\n",
       " 'Se as notícias estão prejudicando seu otimismo; vender pode ser a solução.',\n",
       " 'Mantenha-se atento às tendências. Considere vender se necessário.',\n",
       " 'O mercado está em turbulência. Pense em vender para se proteger.',\n",
       " 'Se a incerteza está afetando suas decisões; vender pode ser a resposta.',\n",
       " 'Não subestime o poder das notícias. Vender pode ser a jogada inteligente.',\n",
       " 'Se as notícias são perturbadoras; considere vender para minimizar perdas.',\n",
       " 'A cautela é fundamental. Vender pode ser uma escolha defensiva.',\n",
       " 'O mercado está oscilando. Pense em vender para preservar ganhos.',\n",
       " 'Se as notícias estão causando preocupações; vender pode ser a estratégia certa.',\n",
       " 'Não ignore os sinais. Vender pode ser a decisão mais acertada.',\n",
       " 'A incerteza está afetando os investidores. Vender pode ser a resposta.',\n",
       " 'Se as notícias estão causando inquietação; vender pode ser uma opção.',\n",
       " 'Mantenha-se informado e considere vender se a situação piorar.',\n",
       " 'Não se deixe influenciar pela incerteza. Pense em vender para minimizar os riscos.',\n",
       " 'Se a situação está instável; vender pode ser a escolha sábia.',\n",
       " 'Com todas essas incertezas; talvez seja hora de considerar a venda.',\n",
       " 'A incerteza pode mudar o cenário. Vender pode ser uma jogada sensata.',\n",
       " 'Se as notícias estão prejudicando seus investimentos; vender pode ser uma resposta.',\n",
       " 'Não tome decisões impulsivas. Pense em vender para evitar perdas.',\n",
       " 'O mercado está em tumulto. Vender pode ser a opção mais sensata.',\n",
       " 'Se a incerteza está prejudicando sua tranquilidade; vender pode ser a escolha certa.',\n",
       " 'A agitação do mercado é uma oportunidade para considerar a venda.',\n",
       " 'Não deixe que as preocupações guiem suas ações. Vender pode ser a resposta.',\n",
       " 'Se as notícias estão causando dúvidas; vender pode ser uma opção.',\n",
       " 'Mantenha a calma e considere vender se a situação continuar incerta.',\n",
       " 'Não subestime a influência das notícias. Vender pode ser a decisão acertada.',\n",
       " 'Se as notícias são inquietantes; vender pode ser a escolha correta.',\n",
       " 'O mercado está em uma montanha-russa. Pense em vender para garantir a segurança.',\n",
       " 'Se as notícias estão afetando sua confiança; vender pode ser uma alternativa.',\n",
       " 'A incerteza não deve ser ignorada. Vender pode ser a estratégia sensata.',\n",
       " 'Não deixe seus investimentos à mercê das incertezas. Vender pode ser a resposta.',\n",
       " 'Se as notícias estão causando preocupações; vender pode ser uma jogada prudente.',\n",
       " 'A incerteza pode ser um sinal de alerta. Vender pode ser a escolha certa.',\n",
       " 'Se a situação está volátil; considere vender para minimizar riscos.',\n",
       " 'Não permita que a incerteza prejudique seu progresso. Pense em vender.',\n",
       " 'Se as notícias estão causando desconforto; vender pode ser uma alternativa.',\n",
       " 'Mantenha-se informado e considere vender se a turbulência persistir.',\n",
       " 'Não deixe que as emoções tomem conta. Vender pode ser a resposta.',\n",
       " 'Se as notícias estão causando insegurança; vender pode ser a escolha certa.',\n",
       " 'A incerteza está moldando o cenário. Vender pode ser uma estratégia defensiva.',\n",
       " 'Não hesite em vender se a situação estiver instável.',\n",
       " 'Se as notícias estão prejudicando sua confiança; vender pode ser uma jogada sensata.',\n",
       " 'Proteja-se das incertezas vendendo o que puder.',\n",
       " 'A instabilidade do mercado está afetando as decisões. Pense em vender.',\n",
       " 'Se a incerteza está prejudicando suas escolhas; vender pode ser a resposta.',\n",
       " 'Não deixe que as dúvidas o impeçam de agir. Pense em vender para evitar riscos.',\n",
       " 'Se as notícias estão causando preocupações; vender pode ser uma solução.',\n",
       " 'A volatilidade é uma ameaça. Vender pode ser a resposta.',\n",
       " 'Não subestime o poder das notícias. Vender pode ser uma jogada estratégica.',\n",
       " 'Se a incerteza está alta; vender pode ser a escolha sensata.',\n",
       " 'Proteja seus ativos em tempos incertos. Pense em vender.',\n",
       " 'Se as notícias estão afetando suas decisões; vender pode ser a jogada certa.',\n",
       " 'A incerteza pode causar estragos. Vender é uma consideração.',\n",
       " 'Não deixe que o medo dite suas ações. Pense em vender para minimizar perdas.',\n",
       " 'Se a situação está ficando tumultuada; vender pode ser a escolha prudente.',\n",
       " 'Mantenha seus investimentos protegidos da incerteza. Pense em vender.',\n",
       " 'Se as notícias estão prejudicando sua confiança; vender pode ser a resposta.',\n",
       " 'A volatilidade pode ser uma ameaça real. Vender é uma opção.',\n",
       " 'Não hesite em vender se a incerteza estiver aumentando.',\n",
       " 'Se as notícias estão causando inquietação; vender pode ser a resposta.',\n",
       " 'A incerteza não deve ser ignorada. Pense em vender para minimizar riscos.',\n",
       " 'Não se prenda a investimentos incertos. Vender pode ser a escolha certa.',\n",
       " 'Se a situação está tumultuada; considere vender para proteger seus ativos.',\n",
       " 'A agitação do mercado pode ser prejudicial. Vender é uma opção.',\n",
       " 'Se as notícias estão afetando seu otimismo; vender pode ser a escolha sábia.',\n",
       " 'A incerteza pode desencadear consequências. Pense em vender para evitar perdas.',\n",
       " 'Não deixe que a insegurança o paralise. Vender pode ser a jogada certa.',\n",
       " 'Se a situação está caótica; vender pode ser a resposta.',\n",
       " 'A instabilidade pode impactar seus investimentos. Vender é uma alternativa.',\n",
       " 'Não se deixe levar pelo pânico. Pense em vender para preservar ganhos.',\n",
       " 'Se as notícias estão abalando sua confiança; vender pode ser a decisão certa.',\n",
       " 'A incerteza está no ar. Vender pode ser uma medida de segurança.',\n",
       " 'Não ignore os sinais de problemas. Pense em vender para minimizar perdas.',\n",
       " 'Se a situação está ficando tensa; vender pode ser a escolha sensata.',\n",
       " 'Com todas essas incertezas; vender pode ser uma opção viável.',\n",
       " 'A instabilidade está afetando os mercados. Vender pode ser a resposta.',\n",
       " 'Não subestime o impacto das notícias. Vender pode ser uma decisão inteligente.',\n",
       " 'Se as notícias estão causando preocupações; vender pode ser a jogada certa.']"
      ]
     },
     "execution_count": 158,
     "metadata": {},
     "output_type": "execute_result"
    }
   ],
   "source": [
    "#Criando um unico array com todas as palavras unicas (dicionario)\n",
    "dicionario\t=\t[]\n",
    "\n",
    "for\tlista\tin\ttextos:\n",
    "\t\tdicionario.append(lista)\n",
    "\n",
    "dicionario"
   ]
  },
  {
   "cell_type": "code",
   "execution_count": 159,
   "metadata": {
    "dotnet_interactive": {
     "language": "csharp"
    },
    "polyglot_notebook": {
     "kernelName": "csharp"
    }
   },
   "outputs": [
    {
     "data": {
      "text/plain": [
       "(400, 736)"
      ]
     },
     "execution_count": 159,
     "metadata": {},
     "output_type": "execute_result"
    }
   ],
   "source": [
    "from sklearn.feature_extraction.text import CountVectorizer\n",
    "count_vect = CountVectorizer()\n",
    "X_train_counts = count_vect.fit_transform(dicionario)\n",
    "X_train_counts.shape"
   ]
  },
  {
   "cell_type": "code",
   "execution_count": 160,
   "metadata": {
    "dotnet_interactive": {
     "language": "csharp"
    },
    "polyglot_notebook": {
     "kernelName": "csharp"
    }
   },
   "outputs": [
    {
     "data": {
      "text/plain": [
       "(400, 736)"
      ]
     },
     "execution_count": 160,
     "metadata": {},
     "output_type": "execute_result"
    }
   ],
   "source": [
    "from sklearn.feature_extraction.text import TfidfTransformer\n",
    "tfidf_transformer = TfidfTransformer()\n",
    "X_train_tfidf = tfidf_transformer.fit_transform(X_train_counts)\n",
    "X_train_tfidf.shape"
   ]
  },
  {
   "cell_type": "code",
   "execution_count": 161,
   "metadata": {
    "dotnet_interactive": {
     "language": "csharp"
    },
    "polyglot_notebook": {
     "kernelName": "csharp"
    }
   },
   "outputs": [],
   "source": [
    "from sklearn.naive_bayes import MultinomialNB\n",
    "clf = MultinomialNB().fit(X_train_tfidf, dadosBrutos['classificacao'])"
   ]
  },
  {
   "cell_type": "code",
   "execution_count": 201,
   "id": "293de698",
   "metadata": {},
   "outputs": [
    {
     "name": "stdout",
     "output_type": "stream",
     "text": [
      "Erro ao chamar a API. Código de status: 404\n",
      "['Notícia, muito boa, recomendação de compra']\n",
      "1\n"
     ]
    }
   ],
   "source": [
    "#url = 'http://44.219.155.152:8080/noticia/rss'\n",
    "url = 'http://localhost:8080/IA/noticias/comentarios'\n",
    "\n",
    "response = requests.get(url)\n",
    "\n",
    "if response.status_code == 200:\n",
    "    data = response.json()\n",
    "    comentarios = pd.DataFrame(data)\n",
    "else:\n",
    "    print('Erro ao chamar a API. Código de status:', response.status_code)\n",
    "\n",
    "# Tratar dados vindo da Api Zup\n",
    "textosApi\t=\tcomentarios['descricao']\n",
    "ListaComentariosApi = []\n",
    "\n",
    "for\tlista\tin\ttextosApi:\n",
    "\t\tListaComentariosApi.append(lista)\n",
    "  \n",
    "  \n",
    "idsApi = comentarios['id']\n",
    "ListaIdsApi = []\n",
    "\n",
    "for listaIds in idsApi:\n",
    "    ListaIdsApi.append(listaIds)\n",
    "\n",
    "print(ListaComentariosApi)\n",
    "\n",
    "print(listaIds)"
   ]
  },
  {
   "cell_type": "code",
   "execution_count": 242,
   "metadata": {
    "dotnet_interactive": {
     "language": "csharp"
    },
    "polyglot_notebook": {
     "kernelName": "csharp"
    }
   },
   "outputs": [
    {
     "name": "stdout",
     "output_type": "stream",
     "text": [
      "'Notícia, muito boa, recomendação de compra' => compra\n"
     ]
    }
   ],
   "source": [
    "#docs_new = ['Não gostei, medo da ação']\n",
    "#docs_new = dicionario\n",
    "docs_new = ListaComentariosApi\n",
    "X_new_counts = count_vect.transform(docs_new)\n",
    "X_new_tfidf = tfidf_transformer.transform(X_new_counts)\n",
    "\n",
    "predicted = clf.predict(X_new_tfidf)\n",
    "\n",
    "categoria = ['', 'compra', 'venda']\n",
    "\n",
    "for doc, category in zip(docs_new, predicted):\n",
    "    print('%r => %s' % (doc, categoria[category]))\n",
    "    \n",
    "    \n",
    "objTratado = {\n",
    "    'Descricao' : doc,\n",
    "    \n",
    "}"
   ]
  },
  {
   "cell_type": "code",
   "execution_count": 243,
   "id": "2159c562",
   "metadata": {},
   "outputs": [
    {
     "name": "stdout",
     "output_type": "stream",
     "text": [
      "[{\"Id\": 1, \"Peso\": 1}]\n"
     ]
    }
   ],
   "source": [
    "# TESTEEEEEE OBJ MONTADO\n",
    "\n",
    "import json\n",
    "\n",
    "# MONTAGEM FOR ENVIO\n",
    "\n",
    "listaIdComentario = [int(listaIds)]\n",
    "listaCategoria = [int(category)]\n",
    "\n",
    "lista_envio = []\n",
    "\n",
    "for idComentario, pesoComentario in zip(listaIdComentario, listaCategoria):\n",
    "    PesoComentarioRequest = {\n",
    "        \"Id\" : idComentario,\n",
    "        \"Peso\" : pesoComentario\n",
    "    }\n",
    "    \n",
    "lista_envio.append(PesoComentarioRequest)\n",
    "\n",
    "#Convertendo lista para JSON\n",
    "request_data = json.dumps(lista_envio)\n",
    "\n",
    "print(request_data)"
   ]
  },
  {
   "cell_type": "code",
   "execution_count": 238,
   "id": "a6decb5a",
   "metadata": {},
   "outputs": [
    {
     "name": "stdout",
     "output_type": "stream",
     "text": [
      "Requisição enviada!\n"
     ]
    }
   ],
   "source": [
    "import json\n",
    "\n",
    "# MONTAGEM FOR ENVIO\n",
    "\n",
    "listaIdComentario = [int(listaIds)]\n",
    "listaCategoria = [int(category)]\n",
    "\n",
    "lista_envio = []\n",
    "\n",
    "for idComentario, pesoComentario in zip(listaIdComentario, listaCategoria):\n",
    "    PesoComentarioRequest = {\n",
    "        \"Id\" : idComentario,\n",
    "        \"Peso\" : pesoComentario\n",
    "    }\n",
    "    \n",
    "lista_envio.append(PesoComentarioRequest)\n",
    "\n",
    "#Convertendo lista para JSON\n",
    "request_data = json.dumps(lista_envio)\n",
    "\n",
    "urlEnvio = 'http://localhost:8080/IA/noticias/comentarios/pesos'\n",
    "headers = {'Content-Type': 'application/json'}\n",
    "\n",
    "requestApi = requests.post(urlEnvio, headers=headers, data=request_data) \n",
    "\n",
    "if requestApi.status_code == 200:\n",
    "    print('Requisição enviada!')\n",
    "else:\n",
    "    print('Erro', requestApi.status_code)"
   ]
  }
 ],
 "metadata": {
  "kernelspec": {
   "display_name": "virt",
   "language": "python",
   "name": "python3"
  },
  "language_info": {
   "codemirror_mode": {
    "name": "ipython",
    "version": 3
   },
   "file_extension": ".py",
   "mimetype": "text/x-python",
   "name": "python",
   "nbconvert_exporter": "python",
   "pygments_lexer": "ipython3",
   "version": "3.11.5"
  },
  "polyglot_notebook": {
   "kernelInfo": {
    "defaultKernelName": "csharp",
    "items": [
     {
      "aliases": [],
      "name": "csharp"
     }
    ]
   }
  }
 },
 "nbformat": 4,
 "nbformat_minor": 5
}
